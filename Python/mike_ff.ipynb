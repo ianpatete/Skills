{
 "cells": [
  {
   "cell_type": "code",
   "execution_count": null,
   "metadata": {},
   "outputs": [],
   "source": [
    "data = {\n",
    "    \"Mike\": \"Dan\",\n",
    "    \"Preston\": \"Galvo\",\n",
    "    \"Nik\": \"Justin\",\n",
    "    \"Bilotti\": \"Nick\",\n",
    "    \"Anton\": \"Birch\",\n",
    "    \"Ed\": \"Kyle\",\n",
    "    \"Dan\": \"Mike\",\n",
    "    \"Galvo\": \"Preston\",\n",
    "    \"Nick\": \"Bilotti\",\n",
    "    \"Birch\": \"Anton\",\n",
    "    \"Kyle\": \"Ed\",\n",
    "    \"Justin\": \"Nik\"\n",
    "}\n"
   ]
  },
  {
   "cell_type": "code",
   "execution_count": null,
   "metadata": {},
   "outputs": [],
   "source": []
  }
 ],
 "metadata": {
  "kernelspec": {
   "display_name": "Python 3.10.12 ('minimal.ds')",
   "language": "python",
   "name": "python3"
  },
  "language_info": {
   "name": "python",
   "version": "3.10.12"
  },
  "orig_nbformat": 4,
  "vscode": {
   "interpreter": {
    "hash": "3c4dd67999ad917540e7939434112bd164a544abb98ce9f2105397549e8e4c23"
   }
  }
 },
 "nbformat": 4,
 "nbformat_minor": 2
}
