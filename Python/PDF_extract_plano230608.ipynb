{
 "cells": [
  {
   "cell_type": "code",
   "execution_count": 2,
   "metadata": {},
   "outputs": [],
   "source": [
    "import os\n",
    "import pdfplumber\n",
    "import pandas as pd\n"
   ]
  },
  {
   "cell_type": "code",
   "execution_count": null,
   "metadata": {},
   "outputs": [],
   "source": [
    "folder_path = r'C:\\data_insights\\developement\\aug_plano'\n",
    "destination_folder = r'C:\\data_insights\\developement\\aug_plano'\n",
    "\n",
    "excel_file = os.path.join(destination_folder, 'POGs Sci Q Stores Aug.xlsx')\n",
    "writer = pd.ExcelWriter(excel_file, engine='xlsxwriter')\n",
    "\n",
    "for filename in os.listdir(folder_path):\n",
    "    if filename.endswith(\".pdf\"):\n",
    "        pdf_file = os.path.join(folder_path, filename)\n",
    "\n",
    "        # Extract month and day from PDF file name\n",
    "        file_name = filename.split('.')[0]  # Remove the file extension\n",
    "        day = file_name.split('_')[-2]  # Extract the day from the file name\n",
    "        month = file_name.split('_')[-3].capitalize()  # Extract the month from the file name and capitalize it\n",
    "\n",
    "        # Create the sheet name\n",
    "        sheet_name = f'{day} POG {month}'\n",
    "\n",
    "        # Open the PDF file\n",
    "        with pdfplumber.open(pdf_file) as pdf:\n",
    "\n",
    "            # Define the header\n",
    "            header = ['BIN', 'GAME #', 'GAME NAME', 'PRICE']\n",
    "            modified_header = header + ['FACINGS']\n",
    "            recording = False  # Flag to start recording rows\n",
    "            rows = []  # Store the rows\n",
    "\n",
    "            # Loop through each page in the PDF\n",
    "            for page in pdf.pages:\n",
    "\n",
    "                # Extract the tables from the page\n",
    "                tables = page.extract_tables()\n",
    "\n",
    "                # Loop through each table\n",
    "                for table in tables:\n",
    "\n",
    "                    # Process each row in the table\n",
    "                    for row in table:\n",
    "\n",
    "                        # If header is found, start recording\n",
    "                        if row[:4] == header:\n",
    "                            recording = True\n",
    "\n",
    "                        # If recording flag is True and row has enough elements, process the row\n",
    "                        if recording and row[:4] != header and len(row) >= 3:\n",
    "                            # Replace '\\n' with ' ' in the \"GAME NAME\" column\n",
    "                            row[2] = row[2].replace('\\n', ' ')\n",
    "\n",
    "                            # Add the \"FACINGS\" column\n",
    "                            if row[0]:  # If the \"BIN\" field is not blank\n",
    "                                row.append(1)\n",
    "                            else:\n",
    "                                row.append('')\n",
    "\n",
    "                            rows.append(row)\n",
    "            # Close sequence \n",
    "            df = pd.DataFrame(rows, columns=modified_header)\n",
    "            df.to_excel(writer, sheet_name=sheet_name, index=False)\n",
    "            pdf.close()\n",
    "writer.save()  # Save the Excel writer\n",
    "writer.close()"
   ]
  }
 ],
 "metadata": {
  "kernelspec": {
   "display_name": "pdfscrape",
   "language": "python",
   "name": "python3"
  },
  "language_info": {
   "codemirror_mode": {
    "name": "ipython",
    "version": 3
   },
   "file_extension": ".py",
   "mimetype": "text/x-python",
   "name": "python",
   "nbconvert_exporter": "python",
   "pygments_lexer": "ipython3",
   "version": "3.11.3"
  },
  "orig_nbformat": 4
 },
 "nbformat": 4,
 "nbformat_minor": 2
}
