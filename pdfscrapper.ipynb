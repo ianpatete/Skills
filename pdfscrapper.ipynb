{
 "cells": [
  {
   "cell_type": "code",
   "execution_count": null,
   "metadata": {},
   "outputs": [
    {
     "ename": "",
     "evalue": "",
     "output_type": "error",
     "traceback": [
      "\u001b[1;31mJupyter cannot be started. Error attempting to locate jupyter: Select an Interpreter to start Jupyter\n",
      "Run the following command to install 'jupyter and notebook' into the Python environment. \n",
      "Command: 'python -m pip install jupyter notebook -U\n",
      "or\n",
      "conda install jupyter notebook -U'\n",
      "Click <a href='https://aka.ms/installJupyterForVSCode'>here</a> for more info."
     ]
    }
   ],
   "source": [
    "import tabula\n",
    "import pandas as pd\n",
    "\n",
    "# Load the PDF file into a dataframe\n",
    "pdf_path = '/Users/ianpatete/Downloads/23_15_2_Ian_Patete.pdf'\n",
    "df = tabula.read_pdf(pdf_path, pages='all')\n",
    "\n",
    "# Clean up the data\n",
    "df = df.dropna()\n",
    "df.columns = ['Column1', 'Column2', 'Column3']\n",
    "df['Column1'] = df['Column1'].astype(int)\n",
    "\n",
    "# Export the data to an Excel file\n",
    "excel_path = '/Users/ianpatete/Downloads/23_15_2_Ian_Patete.xlsx'\n",
    "with pd.ExcelWriter(excel_path, engine='openpyxl') as writer:\n",
    "    df.to_excel(writer, sheet_name='Sheet1', index=False)\n"
   ]
  }
 ],
 "metadata": {
  "kernelspec": {
   "display_name": "Python 3.10.6 ('minimal.ds')",
   "language": "python",
   "name": "python3"
  },
  "language_info": {
   "name": "python",
   "version": "3.10.6"
  },
  "orig_nbformat": 4,
  "vscode": {
   "interpreter": {
    "hash": "3c4dd67999ad917540e7939434112bd164a544abb98ce9f2105397549e8e4c23"
   }
  }
 },
 "nbformat": 4,
 "nbformat_minor": 2
}
